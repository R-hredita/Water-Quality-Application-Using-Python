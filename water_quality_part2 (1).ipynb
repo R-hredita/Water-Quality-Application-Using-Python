{
  "cells": [
    {
      "cell_type": "markdown",
      "source": [
        "Name: Rizvana Hredita"
      ],
      "metadata": {
        "id": "Ksov3-d15FKA"
      }
    },
    {
      "cell_type": "markdown",
      "metadata": {
        "id": "x7woHcLdH1wm"
      },
      "source": [
        "#Libraries added"
      ]
    },
    {
      "cell_type": "code",
      "execution_count": 2,
      "metadata": {
        "id": "ou1TeYvMZJ1x"
      },
      "outputs": [],
      "source": [
        "import pandas as pd\n",
        "import numpy as np\n",
        "from sklearn.impute import KNNImputer\n",
        "import matplotlib.pyplot as plt\n",
        "import seaborn as sb\n",
        "import datetime as dt"
      ]
    },
    {
      "cell_type": "code",
      "execution_count": 3,
      "metadata": {
        "id": "eyLPoehj_sj3"
      },
      "outputs": [],
      "source": [
        "import tensorflow as tf\n",
        "from tensorflow import keras\n",
        "from tensorflow.keras.models import Sequential\n",
        "from tensorflow.keras import layers\n",
        "from tensorflow.keras.callbacks import *\n",
        "from keras.metrics import RootMeanSquaredError, MeanAbsolutePercentageError\n",
        "from keras.utils import losses_utils\n",
        "from keras import backend"
      ]
    },
    {
      "cell_type": "markdown",
      "metadata": {
        "id": "L8MpFv-_f6VX"
      },
      "source": [
        "#Eutrophication Modelling"
      ]
    },
    {
      "cell_type": "markdown",
      "metadata": {
        "id": "kdvAs0eIKGRC"
      },
      "source": [
        "A two layer Bidirectional LSTM model is prepared to forecast the levels of chl-a in a water body. "
      ]
    },
    {
      "cell_type": "code",
      "execution_count": 4,
      "metadata": {
        "colab": {
          "base_uri": "https://localhost:8080/",
          "height": 0
        },
        "id": "p-4_3dO6OTlh",
        "outputId": "60cf6980-5531-4e0d-995b-f0843d90542b"
      },
      "outputs": [
        {
          "output_type": "execute_result",
          "data": {
            "text/plain": [
              "Index(['Year', 'Lake', 'DoY', 'BGA_YSI', 'BGA_HYLB', 'BGA_logged_YSI',\n",
              "       'BGA_logged_HYLB', 'DO_YSI', 'DO_HYLB', 'DOsat_calc_YSI',\n",
              "       'DOsat_calc_HYLB', 'PH_YSI', 'PH_HYLB', 'Chl_YSI', 'Chl_HYLB',\n",
              "       'Temp_YSI', 'Temp_HYLB'],\n",
              "      dtype='object')"
            ]
          },
          "metadata": {},
          "execution_count": 4
        }
      ],
      "source": [
        "CH=pd.read_csv(\"/content/chl_a_data.csv\")\n",
        "CH.columns"
      ]
    },
    {
      "cell_type": "code",
      "execution_count": 5,
      "metadata": {
        "colab": {
          "base_uri": "https://localhost:8080/",
          "height": 295
        },
        "id": "UDCT_VoWQMOz",
        "outputId": "38ba7044-29f9-4556-c911-e22adc5dd851"
      },
      "outputs": [
        {
          "output_type": "display_data",
          "data": {
            "text/plain": [
              "<Figure size 432x288 with 1 Axes>"
            ],
            "image/png": "[encoded data removed]"
          },
          "metadata": {
            "needs_background": "light"
          }
        }
      ],
      "source": [
        "condition1=CH.Year==2014 #one out of 2013,2014 and 2015\n",
        "condition2=CH.Lake=='L' #one out of L, R, T\n",
        "CH1=CH.loc[condition1 & condition2,['DoY','Chl_YSI']]\n",
        "plt.plot(CH1.DoY,CH1.Chl_YSI)\n",
        "plt.title('Chl-a time series')\n",
        "plt.xlabel('Day of Year')\n",
        "plt.ylabel('YSI Chl-a values')\n",
        "plt.show()"
      ]
    },
    {
      "cell_type": "markdown",
      "metadata": {
        "id": "nZjxdkpILljF"
      },
      "source": [
        "Calculation of moving average to minimize fluctuations, followed by min=max scaling. Scaling is part of data preprocessing for neural networks. The previous day Chl-a is also used in the model."
      ]
    },
    {
      "cell_type": "code",
      "execution_count": 6,
      "metadata": {
        "id": "L_C5vOV8ftrU"
      },
      "outputs": [],
      "source": [
        "CH1.loc[:,'mavg']=CH1.Chl_YSI.rolling(15).mean()\n",
        "CH1.loc[:,'mavg']=(CH1.mavg-CH1.mavg.min())/(CH1.mavg.max()-CH1.mavg.min())\n",
        "CH1.loc[:,'Forecast1']=CH1['mavg'].shift(1) #past values"
      ]
    },
    {
      "cell_type": "markdown",
      "metadata": {
        "id": "33sdIJrJMIg-"
      },
      "source": [
        "Splitting data into training and testing"
      ]
    },
    {
      "cell_type": "code",
      "execution_count": 7,
      "metadata": {
        "id": "C9WymHBZAVkP"
      },
      "outputs": [],
      "source": [
        "CH1.dropna(inplace=True)\n",
        "X=CH1\n",
        "X_train=CH1.iloc[0:3301].reset_index(drop=True,inplace=False)\n",
        "X_test=CH1.iloc[3301:].reset_index(drop=True,inplace=False)"
      ]
    },
    {
      "cell_type": "code",
      "execution_count": 8,
      "metadata": {
        "id": "R2vM_glLAlWw"
      },
      "outputs": [],
      "source": [
        "train_data = X_train.loc[:,['Forecast1']]\n",
        "train_target = X_train.loc[:,['mavg']]\n",
        "test_data = X_test.loc[:,['Forecast1']]\n",
        "test_target = X_test.loc[:,['mavg']]\n",
        "all_data = X.loc[:,['Forecast1']]\n",
        "all_target = X.loc[:,['mavg']]"
      ]
    },
    {
      "cell_type": "code",
      "execution_count": 9,
      "metadata": {
        "colab": {
          "base_uri": "https://localhost:8080/",
          "height": 0
        },
        "id": "JTBfZhZcAmWM",
        "outputId": "721f3c3e-4c0a-4a38-d97d-4483dd7b408c"
      },
      "outputs": [
        {
          "output_type": "stream",
          "name": "stdout",
          "text": [
            "Epoch 1/300\n",
            "104/104 [==============================] - 5s 7ms/step - loss: 0.1519 - mean_absolute_percentage_error: 66.2558 - lr: 0.0010\n",
            "Epoch 2/300\n",
            "104/104 [==============================] - 1s 7ms/step - loss: 0.0773 - mean_absolute_percentage_error: 30.4294 - lr: 0.0010\n",
            "Epoch 3/300\n",
            "104/104 [==============================] - 1s 7ms/step - loss: 0.0127 - mean_absolute_percentage_error: 4.3380 - lr: 0.0010\n",
            "Epoch 4/300\n",
            "104/104 [==============================] - 1s 7ms/step - loss: 0.0128 - mean_absolute_percentage_error: 4.3758 - lr: 0.0010\n",
            "Epoch 5/300\n",
            "104/104 [==============================] - 1s 7ms/step - loss: 0.0120 - mean_absolute_percentage_error: 4.1120 - lr: 0.0010\n",
            "Epoch 6/300\n",
            "104/104 [==============================] - 1s 7ms/step - loss: 0.0118 - mean_absolute_percentage_error: 4.0461 - lr: 0.0010\n",
            "Epoch 7/300\n",
            "104/104 [==============================] - 1s 7ms/step - loss: 0.0119 - mean_absolute_percentage_error: 4.0432 - lr: 0.0010\n",
            "Epoch 8/300\n",
            "104/104 [==============================] - 1s 7ms/step - loss: 0.0117 - mean_absolute_percentage_error: 3.9789 - lr: 0.0010\n",
            "Epoch 9/300\n",
            "104/104 [==============================] - 1s 7ms/step - loss: 0.0114 - mean_absolute_percentage_error: 3.8998 - lr: 0.0010\n",
            "Epoch 10/300\n",
            "104/104 [==============================] - 1s 6ms/step - loss: 0.0116 - mean_absolute_percentage_error: 3.9297 - lr: 0.0010\n",
            "Epoch 11/300\n",
            "104/104 [==============================] - 1s 7ms/step - loss: 0.0113 - mean_absolute_percentage_error: 3.8461 - lr: 0.0010\n",
            "Epoch 12/300\n",
            "104/104 [==============================] - 1s 7ms/step - loss: 0.0113 - mean_absolute_percentage_error: 3.8503 - lr: 0.0010\n",
            "Epoch 13/300\n",
            "104/104 [==============================] - 1s 7ms/step - loss: 0.0115 - mean_absolute_percentage_error: 3.8831 - lr: 0.0010\n",
            "Epoch 14/300\n",
            "104/104 [==============================] - 1s 7ms/step - loss: 0.0113 - mean_absolute_percentage_error: 3.8259 - lr: 0.0010\n",
            "Epoch 15/300\n",
            "104/104 [==============================] - 1s 7ms/step - loss: 0.0112 - mean_absolute_percentage_error: 3.7558 - lr: 0.0010\n",
            "Epoch 16/300\n",
            "104/104 [==============================] - 1s 7ms/step - loss: 0.0110 - mean_absolute_percentage_error: 3.7399 - lr: 0.0010\n",
            "Epoch 17/300\n",
            "104/104 [==============================] - 1s 7ms/step - loss: 0.0110 - mean_absolute_percentage_error: 3.7261 - lr: 0.0010\n",
            "Epoch 18/300\n",
            "104/104 [==============================] - 1s 7ms/step - loss: 0.0111 - mean_absolute_percentage_error: 3.7079 - lr: 0.0010\n",
            "Epoch 19/300\n",
            "104/104 [==============================] - 1s 7ms/step - loss: 0.0109 - mean_absolute_percentage_error: 3.6890 - lr: 0.0010\n",
            "Epoch 20/300\n",
            "104/104 [==============================] - 1s 7ms/step - loss: 0.0111 - mean_absolute_percentage_error: 3.7759 - lr: 0.0010\n",
            "Epoch 21/300\n",
            "104/104 [==============================] - 1s 7ms/step - loss: 0.0108 - mean_absolute_percentage_error: 3.6324 - lr: 0.0010\n",
            "Epoch 22/300\n",
            "104/104 [==============================] - 1s 7ms/step - loss: 0.0108 - mean_absolute_percentage_error: 3.6229 - lr: 0.0010\n",
            "Epoch 23/300\n",
            "104/104 [==============================] - 1s 7ms/step - loss: 0.0108 - mean_absolute_percentage_error: 3.6222 - lr: 0.0010\n",
            "Epoch 24/300\n",
            "104/104 [==============================] - 1s 7ms/step - loss: 0.0108 - mean_absolute_percentage_error: 3.6171 - lr: 0.0010\n",
            "Epoch 25/300\n",
            "104/104 [==============================] - 1s 6ms/step - loss: 0.0108 - mean_absolute_percentage_error: 3.6329 - lr: 0.0010\n",
            "Epoch 26/300\n",
            "104/104 [==============================] - 1s 7ms/step - loss: 0.0106 - mean_absolute_percentage_error: 3.5714 - lr: 0.0010\n",
            "Epoch 27/300\n",
            "104/104 [==============================] - 1s 7ms/step - loss: 0.0107 - mean_absolute_percentage_error: 3.5521 - lr: 0.0010\n",
            "Epoch 28/300\n",
            "104/104 [==============================] - 1s 7ms/step - loss: 0.0107 - mean_absolute_percentage_error: 3.5632 - lr: 0.0010\n",
            "Epoch 29/300\n",
            "104/104 [==============================] - 1s 7ms/step - loss: 0.0107 - mean_absolute_percentage_error: 3.5791 - lr: 0.0010\n",
            "Epoch 30/300\n",
            "104/104 [==============================] - 1s 7ms/step - loss: 0.0106 - mean_absolute_percentage_error: 3.5519 - lr: 0.0010\n",
            "Epoch 31/300\n",
            "104/104 [==============================] - 1s 7ms/step - loss: 0.0109 - mean_absolute_percentage_error: 3.6178 - lr: 0.0010\n",
            "Epoch 32/300\n",
            "104/104 [==============================] - 1s 7ms/step - loss: 0.0107 - mean_absolute_percentage_error: 3.5635 - lr: 0.0010\n",
            "Epoch 33/300\n",
            " 96/104 [==========================>...] - ETA: 0s - loss: 0.0110 - mean_absolute_percentage_error: 3.6618\n",
            "Epoch 33: ReduceLROnPlateau reducing learning rate to 0.00010000000474974513.\n",
            "104/104 [==============================] - 1s 7ms/step - loss: 0.0110 - mean_absolute_percentage_error: 3.6801 - lr: 0.0010\n",
            "Epoch 34/300\n",
            "104/104 [==============================] - 1s 7ms/step - loss: 0.0104 - mean_absolute_percentage_error: 3.4601 - lr: 1.0000e-04\n",
            "Epoch 35/300\n",
            "104/104 [==============================] - 1s 7ms/step - loss: 0.0104 - mean_absolute_percentage_error: 3.4622 - lr: 1.0000e-04\n",
            "Epoch 36/300\n",
            "104/104 [==============================] - 1s 7ms/step - loss: 0.0104 - mean_absolute_percentage_error: 3.4769 - lr: 1.0000e-04\n",
            "Epoch 37/300\n",
            "104/104 [==============================] - 1s 7ms/step - loss: 0.0104 - mean_absolute_percentage_error: 3.4714 - lr: 1.0000e-04\n",
            "Epoch 38/300\n",
            "104/104 [==============================] - 1s 7ms/step - loss: 0.0104 - mean_absolute_percentage_error: 3.4573 - lr: 1.0000e-04\n",
            "Epoch 39/300\n",
            "104/104 [==============================] - 1s 7ms/step - loss: 0.0104 - mean_absolute_percentage_error: 3.4682 - lr: 1.0000e-04\n",
            "Epoch 40/300\n",
            "104/104 [==============================] - 1s 7ms/step - loss: 0.0104 - mean_absolute_percentage_error: 3.4647 - lr: 1.0000e-04\n",
            "Epoch 41/300\n",
            "101/104 [============================>.] - ETA: 0s - loss: 0.0104 - mean_absolute_percentage_error: 3.4708\n",
            "Epoch 41: ReduceLROnPlateau reducing learning rate to 1.0000000474974514e-05.\n",
            "104/104 [==============================] - 1s 6ms/step - loss: 0.0104 - mean_absolute_percentage_error: 3.4625 - lr: 1.0000e-04\n",
            "Epoch 42/300\n",
            "104/104 [==============================] - 1s 7ms/step - loss: 0.0104 - mean_absolute_percentage_error: 3.4559 - lr: 1.0000e-05\n",
            "Epoch 43/300\n",
            "104/104 [==============================] - 1s 7ms/step - loss: 0.0104 - mean_absolute_percentage_error: 3.4556 - lr: 1.0000e-05\n",
            "Epoch 44/300\n",
            "104/104 [==============================] - 1s 10ms/step - loss: 0.0104 - mean_absolute_percentage_error: 3.4534 - lr: 1.0000e-05\n",
            "Epoch 45/300\n",
            "104/104 [==============================] - 1s 7ms/step - loss: 0.0104 - mean_absolute_percentage_error: 3.4507 - lr: 1.0000e-05\n",
            "Epoch 46/300\n",
            "104/104 [==============================] - 1s 7ms/step - loss: 0.0104 - mean_absolute_percentage_error: 3.4529 - lr: 1.0000e-05\n",
            "Epoch 47/300\n",
            "104/104 [==============================] - 1s 7ms/step - loss: 0.0104 - mean_absolute_percentage_error: 3.4507 - lr: 1.0000e-05\n",
            "Epoch 48/300\n",
            " 97/104 [==========================>...] - ETA: 0s - loss: 0.0104 - mean_absolute_percentage_error: 3.4466\n",
            "Epoch 48: ReduceLROnPlateau reducing learning rate to 1.0000000656873453e-06.\n",
            "104/104 [==============================] - 1s 7ms/step - loss: 0.0104 - mean_absolute_percentage_error: 3.4522 - lr: 1.0000e-05\n",
            "Epoch 49/300\n",
            "104/104 [==============================] - 1s 7ms/step - loss: 0.0104 - mean_absolute_percentage_error: 3.4584 - lr: 1.0000e-06\n",
            "Epoch 50/300\n",
            "104/104 [==============================] - 1s 7ms/step - loss: 0.0104 - mean_absolute_percentage_error: 3.4556 - lr: 1.0000e-06\n",
            "Epoch 51/300\n",
            "104/104 [==============================] - 1s 7ms/step - loss: 0.0104 - mean_absolute_percentage_error: 3.4534 - lr: 1.0000e-06\n",
            "Epoch 52/300\n",
            "104/104 [==============================] - 1s 7ms/step - loss: 0.0104 - mean_absolute_percentage_error: 3.4515 - lr: 1.0000e-06\n",
            "Epoch 53/300\n",
            "104/104 [==============================] - 1s 7ms/step - loss: 0.0104 - mean_absolute_percentage_error: 3.4516 - lr: 1.0000e-06\n",
            "Epoch 54/300\n",
            "104/104 [==============================] - 1s 7ms/step - loss: 0.0104 - mean_absolute_percentage_error: 3.4509 - lr: 1.0000e-06\n",
            "Epoch 55/300\n",
            "102/104 [============================>.] - ETA: 0s - loss: 0.0104 - mean_absolute_percentage_error: 3.4345\n",
            "Epoch 55: ReduceLROnPlateau reducing learning rate to 1.0000001111620805e-07.\n",
            "104/104 [==============================] - 1s 7ms/step - loss: 0.0104 - mean_absolute_percentage_error: 3.4498 - lr: 1.0000e-06\n",
            "Epoch 56/300\n",
            "104/104 [==============================] - 1s 7ms/step - loss: 0.0104 - mean_absolute_percentage_error: 3.4497 - lr: 1.0000e-07\n",
            "Epoch 57/300\n",
            "104/104 [==============================] - 1s 6ms/step - loss: 0.0104 - mean_absolute_percentage_error: 3.4500 - lr: 1.0000e-07\n",
            "Epoch 58/300\n",
            "104/104 [==============================] - 1s 7ms/step - loss: 0.0104 - mean_absolute_percentage_error: 3.4499 - lr: 1.0000e-07\n",
            "Epoch 59/300\n",
            "104/104 [==============================] - 1s 7ms/step - loss: 0.0104 - mean_absolute_percentage_error: 3.4499 - lr: 1.0000e-07\n",
            "Epoch 60/300\n",
            "104/104 [==============================] - 1s 7ms/step - loss: 0.0104 - mean_absolute_percentage_error: 3.4499 - lr: 1.0000e-07\n",
            "Epoch 61/300\n",
            "104/104 [==============================] - 1s 7ms/step - loss: 0.0104 - mean_absolute_percentage_error: 3.4499 - lr: 1.0000e-07\n",
            "Epoch 62/300\n",
            " 98/104 [===========================>..] - ETA: 0s - loss: 0.0104 - mean_absolute_percentage_error: 3.4714\n",
            "Epoch 62: ReduceLROnPlateau reducing learning rate to 1.000000082740371e-08.\n",
            "104/104 [==============================] - 1s 7ms/step - loss: 0.0104 - mean_absolute_percentage_error: 3.4499 - lr: 1.0000e-07\n",
            "Epoch 63/300\n",
            "104/104 [==============================] - 1s 7ms/step - loss: 0.0104 - mean_absolute_percentage_error: 3.4499 - lr: 1.0000e-08\n",
            "Epoch 64/300\n",
            "104/104 [==============================] - 1s 7ms/step - loss: 0.0104 - mean_absolute_percentage_error: 3.4499 - lr: 1.0000e-08\n",
            "Epoch 65/300\n",
            "104/104 [==============================] - 1s 7ms/step - loss: 0.0104 - mean_absolute_percentage_error: 3.4499 - lr: 1.0000e-08\n",
            "Epoch 66/300\n",
            "104/104 [==============================] - 1s 7ms/step - loss: 0.0104 - mean_absolute_percentage_error: 3.4500 - lr: 1.0000e-08\n",
            "Epoch 67/300\n",
            "104/104 [==============================] - 1s 7ms/step - loss: 0.0104 - mean_absolute_percentage_error: 3.4499 - lr: 1.0000e-08\n",
            "Epoch 68/300\n",
            "104/104 [==============================] - 1s 7ms/step - loss: 0.0104 - mean_absolute_percentage_error: 3.4500 - lr: 1.0000e-08\n",
            "Epoch 69/300\n",
            "104/104 [==============================] - ETA: 0s - loss: 0.0104 - mean_absolute_percentage_error: 3.4499\n",
            "Epoch 69: ReduceLROnPlateau reducing learning rate to 1.000000082740371e-09.\n",
            "104/104 [==============================] - 1s 7ms/step - loss: 0.0104 - mean_absolute_percentage_error: 3.4499 - lr: 1.0000e-08\n",
            "Epoch 70/300\n",
            "104/104 [==============================] - 1s 7ms/step - loss: 0.0104 - mean_absolute_percentage_error: 3.4500 - lr: 1.0000e-09\n",
            "Epoch 71/300\n",
            "104/104 [==============================] - 1s 7ms/step - loss: 0.0104 - mean_absolute_percentage_error: 3.4499 - lr: 1.0000e-09\n",
            "Epoch 72/300\n",
            "104/104 [==============================] - 1s 6ms/step - loss: 0.0104 - mean_absolute_percentage_error: 3.4500 - lr: 1.0000e-09\n",
            "Epoch 73/300\n",
            "104/104 [==============================] - 1s 6ms/step - loss: 0.0104 - mean_absolute_percentage_error: 3.4500 - lr: 1.0000e-09\n",
            "Epoch 74/300\n",
            "104/104 [==============================] - 1s 7ms/step - loss: 0.0104 - mean_absolute_percentage_error: 3.4499 - lr: 1.0000e-09\n",
            "Epoch 75/300\n",
            "104/104 [==============================] - 1s 7ms/step - loss: 0.0104 - mean_absolute_percentage_error: 3.4499 - lr: 1.0000e-09\n",
            "Epoch 76/300\n",
            "100/104 [===========================>..] - ETA: 0s - loss: 0.0104 - mean_absolute_percentage_error: 3.4611\n",
            "Epoch 76: ReduceLROnPlateau reducing learning rate to 1.000000082740371e-10.\n",
            "104/104 [==============================] - 1s 6ms/step - loss: 0.0104 - mean_absolute_percentage_error: 3.4499 - lr: 1.0000e-09\n",
            "Epoch 77/300\n",
            "104/104 [==============================] - 1s 7ms/step - loss: 0.0104 - mean_absolute_percentage_error: 3.4499 - lr: 1.0000e-10\n",
            "Epoch 78/300\n",
            "104/104 [==============================] - 1s 6ms/step - loss: 0.0104 - mean_absolute_percentage_error: 3.4500 - lr: 1.0000e-10\n",
            "Epoch 79/300\n",
            "104/104 [==============================] - 1s 7ms/step - loss: 0.0104 - mean_absolute_percentage_error: 3.4499 - lr: 1.0000e-10\n"
          ]
        },
        {
          "output_type": "execute_result",
          "data": {
            "text/plain": [
              "<keras.callbacks.History at 0x7f8ef2a8c350>"
            ]
          },
          "metadata": {},
          "execution_count": 9
        }
      ],
      "source": [
        "train_data = train_data.to_numpy().reshape(train_data.shape[0],train_data.shape[1],1)\n",
        "test_data = test_data.to_numpy().reshape(test_data.shape[0],test_data.shape[1],1)\n",
        "model = keras.Sequential()\n",
        "model.add(keras.layers.Bidirectional(keras.layers.LSTM(200, activation='relu', return_sequences=True, input_shape=(train_data.shape[1],1))))\n",
        "model.add(keras.layers.Bidirectional(keras.layers.LSTM(15, activation='relu', return_sequences=False)))\n",
        "model.add(keras.layers.Dense(1, activation='sigmoid'))\n",
        "\n",
        "earlyStopping = EarlyStopping(monitor='loss', patience=9, verbose=0, mode='min')\n",
        "mcp_save = ModelCheckpoint('best_model_yet.hdf5', save_best_only=True, monitor='loss', mode='min')\n",
        "reduce_lr_loss = ReduceLROnPlateau(monitor='loss', factor=0.1, patience=7, verbose=1, mode='min')\n",
        "\n",
        "model.compile(\n",
        "    loss=keras.losses.mae,\n",
        "    optimizer='Adam',\n",
        "    metrics=MeanAbsolutePercentageError())\n",
        "model.fit(train_data, train_target, epochs=300, callbacks=[earlyStopping, mcp_save, reduce_lr_loss])\n",
        "   "
      ]
    },
    {
      "cell_type": "code",
      "execution_count": 10,
      "metadata": {
        "id": "qFgMbZW_AwmV"
      },
      "outputs": [],
      "source": [
        "all_data = all_data.to_numpy().reshape(all_data.shape[0],all_data.shape[1],1)"
      ]
    },
    {
      "cell_type": "markdown",
      "metadata": {
        "id": "2P0AqqYXMnpe"
      },
      "source": [
        "Generating predictions for model assessment"
      ]
    },
    {
      "cell_type": "code",
      "execution_count": 11,
      "metadata": {
        "colab": {
          "base_uri": "https://localhost:8080/",
          "height": 0
        },
        "id": "lbxKWBCNAxI_",
        "outputId": "b60c2186-2a64-4ae2-d539-5cc2f7bbdbc3"
      },
      "outputs": [
        {
          "output_type": "stream",
          "name": "stdout",
          "text": [
            "1035/1035 [==============================] - 2s 2ms/step\n",
            "RMSE: 0.022\n"
          ]
        }
      ],
      "source": [
        "import math\n",
        "yhat = model.predict(all_data)\n",
        "predicted=[float(ele[0]) for ele in yhat]\n",
        "from sklearn.metrics import mean_squared_error\n",
        "MS=math.sqrt(mean_squared_error(all_target['mavg'],predicted))\n",
        "print('RMSE: %.3f' % MS)"
      ]
    },
    {
      "cell_type": "markdown",
      "metadata": {
        "id": "RB7OJDvhNeJz"
      },
      "source": [
        "The low RMSE is encouraging, the superimposition of actual and predicted shows good forecasts."
      ]
    },
    {
      "cell_type": "code",
      "execution_count": 12,
      "metadata": {
        "colab": {
          "base_uri": "https://localhost:8080/",
          "height": 281
        },
        "id": "HMIKYLmdJ1WC",
        "outputId": "fe6129bf-932c-4f76-ca9a-43861309ab07"
      },
      "outputs": [
        {
          "output_type": "display_data",
          "data": {
            "text/plain": [
              "<Figure size 432x288 with 1 Axes>"
            ],
            "image/png": "[encoded data removed]"
          },
          "metadata": {
            "needs_background": "light"
          }
        }
      ],
      "source": [
        "p1=plt.scatter(X.DoY,predicted,c='blue')\n",
        "p2=plt.scatter(X.DoY,X.mavg,c='red',s=2)\n",
        "plt.legend((p1,p2),('Predicted','Actual(Moving Average)'))\n",
        "plt.title('Chl-a forecasts')\n",
        "plt.show()"
      ]
    },
    {
      "cell_type": "code",
      "execution_count": 13,
      "metadata": {
        "colab": {
          "base_uri": "https://localhost:8080/",
          "height": 206
        },
        "id": "8tX8acp3Azwv",
        "outputId": "32b2df8a-871b-4973-df12-7abb04488101"
      },
      "outputs": [
        {
          "output_type": "execute_result",
          "data": {
            "text/plain": [
              "              DoY  Predicted  Actual\n",
              "32559  136.052083   3.725113     2.2\n",
              "32560  136.055556   3.751959     2.3\n",
              "32561  136.059028   3.844527     1.6\n",
              "32562  136.062500   3.818303     2.3\n",
              "32563  136.065972   3.818303     1.6"
            ],
            "text/html": [
              "\n",
              "  <div id=\"df-8982e99e-8386-437b-8f91-5114ba6aa303\">\n",
              "    <div class=\"colab-df-container\">\n",
              "      <div>\n",
              "<style scoped>\n",
              "    .dataframe tbody tr th:only-of-type {\n",
              "        vertical-align: middle;\n",
              "    }\n",
              "\n",
              "    .dataframe tbody tr th {\n",
              "        vertical-align: top;\n",
              "    }\n",
              "\n",
              "    .dataframe thead th {\n",
              "        text-align: right;\n",
              "    }\n",
              "</style>\n",
              "<table border=\"1\" class=\"dataframe\">\n",
              "  <thead>\n",
              "    <tr style=\"text-align: right;\">\n",
              "      <th></th>\n",
              "      <th>DoY</th>\n",
              "      <th>Predicted</th>\n",
              "      <th>Actual</th>\n",
              "    </tr>\n",
              "  </thead>\n",
              "  <tbody>\n",
              "    <tr>\n",
              "      <th>32559</th>\n",
              "      <td>136.052083</td>\n",
              "      <td>3.725113</td>\n",
              "      <td>2.2</td>\n",
              "    </tr>\n",
              "    <tr>\n",
              "      <th>32560</th>\n",
              "      <td>136.055556</td>\n",
              "      <td>3.751959</td>\n",
              "      <td>2.3</td>\n",
              "    </tr>\n",
              "    <tr>\n",
              "      <th>32561</th>\n",
              "      <td>136.059028</td>\n",
              "      <td>3.844527</td>\n",
              "      <td>1.6</td>\n",
              "    </tr>\n",
              "    <tr>\n",
              "      <th>32562</th>\n",
              "      <td>136.062500</td>\n",
              "      <td>3.818303</td>\n",
              "      <td>2.3</td>\n",
              "    </tr>\n",
              "    <tr>\n",
              "      <th>32563</th>\n",
              "      <td>136.065972</td>\n",
              "      <td>3.818303</td>\n",
              "      <td>1.6</td>\n",
              "    </tr>\n",
              "  </tbody>\n",
              "</table>\n",
              "</div>\n",
              "      <button class=\"colab-df-convert\" onclick=\"convertToInteractive('df-8982e99e-8386-437b-8f91-5114ba6aa303')\"\n",
              "              title=\"Convert this dataframe to an interactive table.\"\n",
              "              style=\"display:none;\">\n",
              "        \n",
              "  <svg xmlns=\"http://www.w3.org/2000/svg\" height=\"24px\"viewBox=\"0 0 24 24\"\n",
              "       width=\"24px\">\n",
              "    <path d=\"M0 0h24v24H0V0z\" fill=\"none\"/>\n",
              "    <path d=\"M18.56 5.44l.94 2.06.94-2.06 2.06-.94-2.06-.94-.94-2.06-.94 2.06-2.06.94zm-11 1L8.5 8.5l.94-2.06 2.06-.94-2.06-.94L8.5 2.5l-.94 2.06-2.06.94zm10 10l.94 2.06.94-2.06 2.06-.94-2.06-.94-.94-2.06-.94 2.06-2.06.94z\"/><path d=\"M17.41 7.96l-1.37-1.37c-.4-.4-.92-.59-1.43-.59-.52 0-1.04.2-1.43.59L10.3 9.45l-7.72 7.72c-.78.78-.78 2.05 0 2.83L4 21.41c.39.39.9.59 1.41.59.51 0 1.02-.2 1.41-.59l7.78-7.78 2.81-2.81c.8-.78.8-2.07 0-2.86zM5.41 20L4 18.59l7.72-7.72 1.47 1.35L5.41 20z\"/>\n",
              "  </svg>\n",
              "      </button>\n",
              "      \n",
              "  <style>\n",
              "    .colab-df-container {\n",
              "      display:flex;\n",
              "      flex-wrap:wrap;\n",
              "      gap: 12px;\n",
              "    }\n",
              "\n",
              "    .colab-df-convert {\n",
              "      background-color: #E8F0FE;\n",
              "      border: none;\n",
              "      border-radius: 50%;\n",
              "      cursor: pointer;\n",
              "      display: none;\n",
              "      fill: #1967D2;\n",
              "      height: 32px;\n",
              "      padding: 0 0 0 0;\n",
              "      width: 32px;\n",
              "    }\n",
              "\n",
              "    .colab-df-convert:hover {\n",
              "      background-color: #E2EBFA;\n",
              "      box-shadow: 0px 1px 2px rgba(60, 64, 67, 0.3), 0px 1px 3px 1px rgba(60, 64, 67, 0.15);\n",
              "      fill: #174EA6;\n",
              "    }\n",
              "\n",
              "    [theme=dark] .colab-df-convert {\n",
              "      background-color: #3B4455;\n",
              "      fill: #D2E3FC;\n",
              "    }\n",
              "\n",
              "    [theme=dark] .colab-df-convert:hover {\n",
              "      background-color: #434B5C;\n",
              "      box-shadow: 0px 1px 3px 1px rgba(0, 0, 0, 0.15);\n",
              "      filter: drop-shadow(0px 1px 2px rgba(0, 0, 0, 0.3));\n",
              "      fill: #FFFFFF;\n",
              "    }\n",
              "  </style>\n",
              "\n",
              "      <script>\n",
              "        const buttonEl =\n",
              "          document.querySelector('#df-8982e99e-8386-437b-8f91-5114ba6aa303 button.colab-df-convert');\n",
              "        buttonEl.style.display =\n",
              "          google.colab.kernel.accessAllowed ? 'block' : 'none';\n",
              "\n",
              "        async function convertToInteractive(key) {\n",
              "          const element = document.querySelector('#df-8982e99e-8386-437b-8f91-5114ba6aa303');\n",
              "          const dataTable =\n",
              "            await google.colab.kernel.invokeFunction('convertToInteractive',\n",
              "                                                     [key], {});\n",
              "          if (!dataTable) return;\n",
              "\n",
              "          const docLinkHtml = 'Like what you see? Visit the ' +\n",
              "            '<a target=\"_blank\" href=https://colab.research.google.com/notebooks/data_table.ipynb>data table notebook</a>'\n",
              "            + ' to learn more about interactive tables.';\n",
              "          element.innerHTML = '';\n",
              "          dataTable['output_type'] = 'display_data';\n",
              "          await google.colab.output.renderOutput(dataTable, element);\n",
              "          const docLink = document.createElement('div');\n",
              "          docLink.innerHTML = docLinkHtml;\n",
              "          element.appendChild(docLink);\n",
              "        }\n",
              "      </script>\n",
              "    </div>\n",
              "  </div>\n",
              "  "
            ]
          },
          "metadata": {},
          "execution_count": 13
        }
      ],
      "source": [
        "Dpred=pd.DataFrame({'DoY':X.DoY,'Predicted':predicted,'Actual':X['Chl_YSI']},\n",
        "                   columns=['DoY','Predicted','Actual'])\n",
        "Dpred['Predicted']=(Dpred['Predicted'] *(X['Chl_YSI'].max()-X['Chl_YSI'].min())+X['Chl_YSI'].min())\n",
        "Dpred.head()"
      ]
    },
    {
      "cell_type": "code",
      "execution_count": 14,
      "metadata": {
        "id": "0jKhks0KA4Zv"
      },
      "outputs": [],
      "source": [
        "Dpred.to_csv(\"bilstm_chlapred.csv\",index=False)"
      ]
    },
    {
      "cell_type": "code",
      "execution_count": null,
      "metadata": {
        "id": "V6rrbX5tr26Y"
      },
      "outputs": [],
      "source": []
    },
    {
      "cell_type": "code",
      "execution_count": null,
      "metadata": {
        "id": "rYRF17TMr26Y"
      },
      "outputs": [],
      "source": []
    }
  ],
  "metadata": {
    "colab": {
      "collapsed_sections": [
        "x7woHcLdH1wm"
      ],
      "provenance": []
    },
    "kernelspec": {
      "display_name": "Python 3",
      "language": "python",
      "name": "python3"
    },
    "language_info": {
      "codemirror_mode": {
        "name": "ipython",
        "version": 3
      },
      "file_extension": ".py",
      "mimetype": "text/x-python",
      "name": "python",
      "nbconvert_exporter": "python",
      "pygments_lexer": "ipython3",
      "version": "3.7.6"
    }
  },
  "nbformat": 4,
  "nbformat_minor": 0
}